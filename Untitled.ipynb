{
 "cells": [
  {
   "cell_type": "code",
   "execution_count": 1,
   "metadata": {},
   "outputs": [],
   "source": [
    "import praw"
   ]
  },
  {
   "cell_type": "code",
   "execution_count": 3,
   "metadata": {},
   "outputs": [
    {
     "ename": "ClientException",
     "evalue": "Required configuration setting 'client_id' missing. \nThis setting can be provided in a praw.ini file, as a keyword argument to the `Reddit` class constructor, or as an environment variable.",
     "output_type": "error",
     "traceback": [
      "\u001b[1;31m---------------------------------------------------------------------------\u001b[0m",
      "\u001b[1;31mClientException\u001b[0m                           Traceback (most recent call last)",
      "\u001b[1;32m<ipython-input-3-93bc877a9c7d>\u001b[0m in \u001b[0;36m<module>\u001b[1;34m\u001b[0m\n\u001b[0;32m     17\u001b[0m                      \u001b[0muser_agent\u001b[0m\u001b[1;33m=\u001b[0m\u001b[0mredditAgent\u001b[0m\u001b[1;33m,\u001b[0m\u001b[1;33m\u001b[0m\u001b[1;33m\u001b[0m\u001b[0m\n\u001b[0;32m     18\u001b[0m                      \u001b[0musername\u001b[0m\u001b[1;33m=\u001b[0m\u001b[0mredditUName\u001b[0m\u001b[1;33m,\u001b[0m\u001b[1;33m\u001b[0m\u001b[1;33m\u001b[0m\u001b[0m\n\u001b[1;32m---> 19\u001b[1;33m                      password=redditPW)\n\u001b[0m",
      "\u001b[1;32m~\\scoop\\apps\\python\\current\\lib\\site-packages\\praw\\reddit.py\u001b[0m in \u001b[0;36m__init__\u001b[1;34m(self, site_name, requestor_class, requestor_kwargs, **config_settings)\u001b[0m\n\u001b[0;32m    171\u001b[0m                 \u001b[1;32mNone\u001b[0m\u001b[1;33m,\u001b[0m\u001b[1;33m\u001b[0m\u001b[1;33m\u001b[0m\u001b[0m\n\u001b[0;32m    172\u001b[0m             ):\n\u001b[1;32m--> 173\u001b[1;33m                 \u001b[1;32mraise\u001b[0m \u001b[0mClientException\u001b[0m\u001b[1;33m(\u001b[0m\u001b[0mrequired_message\u001b[0m\u001b[1;33m.\u001b[0m\u001b[0mformat\u001b[0m\u001b[1;33m(\u001b[0m\u001b[0mattribute\u001b[0m\u001b[1;33m)\u001b[0m\u001b[1;33m)\u001b[0m\u001b[1;33m\u001b[0m\u001b[1;33m\u001b[0m\u001b[0m\n\u001b[0m\u001b[0;32m    174\u001b[0m         \u001b[1;32mif\u001b[0m \u001b[0mself\u001b[0m\u001b[1;33m.\u001b[0m\u001b[0mconfig\u001b[0m\u001b[1;33m.\u001b[0m\u001b[0mclient_secret\u001b[0m \u001b[1;32mis\u001b[0m \u001b[0mself\u001b[0m\u001b[1;33m.\u001b[0m\u001b[0mconfig\u001b[0m\u001b[1;33m.\u001b[0m\u001b[0mCONFIG_NOT_SET\u001b[0m\u001b[1;33m:\u001b[0m\u001b[1;33m\u001b[0m\u001b[1;33m\u001b[0m\u001b[0m\n\u001b[0;32m    175\u001b[0m             raise ClientException(\n",
      "\u001b[1;31mClientException\u001b[0m: Required configuration setting 'client_id' missing. \nThis setting can be provided in a praw.ini file, as a keyword argument to the `Reddit` class constructor, or as an environment variable."
     ]
    }
   ],
   "source": [
    "import os, random, sys, praw\n",
    "from dotenv import load_dotenv\n",
    "\n",
    "# Import discord libary\n",
    "import discord\n",
    "from discord.ext import commands\n",
    "\n",
    "load_dotenv()\n",
    "token = os.getenv('DISCORD_TOKEN')\n",
    "redditSecret = os.getenv('REDDIT_CLIENT_SECRET')\n",
    "redditID = os.getenv('REDDIT_CLIENT_ID')\n",
    "redditAgent = os.getenv('REDDIT_USER_AGENT')\n",
    "redditPW = os.getenv('REDDIT_PW')\n",
    "redditUName = os.getenv('REDDIT_USERNAME')\n",
    "reddit = praw.Reddit(client_id=redditID,\n",
    "                     client_secret=redditSecret,\n",
    "                     user_agent=redditAgent,\n",
    "                     username=redditUName,\n",
    "                     password=redditPW)"
   ]
  },
  {
   "cell_type": "code",
   "execution_count": null,
   "metadata": {},
   "outputs": [],
   "source": []
  }
 ],
 "metadata": {
  "kernelspec": {
   "display_name": "Python 3",
   "language": "python",
   "name": "python3"
  },
  "language_info": {
   "codemirror_mode": {
    "name": "ipython",
    "version": 3
   },
   "file_extension": ".py",
   "mimetype": "text/x-python",
   "name": "python",
   "nbconvert_exporter": "python",
   "pygments_lexer": "ipython3",
   "version": "3.7.3"
  }
 },
 "nbformat": 4,
 "nbformat_minor": 2
}
